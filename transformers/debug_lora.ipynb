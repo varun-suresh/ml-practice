{
 "cells": [
  {
   "cell_type": "code",
   "execution_count": null,
   "metadata": {},
   "outputs": [],
   "source": [
    "from gpt import GPT\n",
    "from gpt_config import GPTConfig\n",
    "import torch\n",
    "import pandas"
   ]
  },
  {
   "cell_type": "code",
   "execution_count": null,
   "metadata": {},
   "outputs": [],
   "source": [
    "from torch.utils.data.dataloader import DataLoader\n",
    "from sentiment_classification.reviewsDataset import reviewsDataset\n",
    "from gpt_utils import dynamic_padding\n",
    "import tiktoken\n",
    "enc = tiktoken.get_encoding(\"gpt2\")\n",
    "def encode(s: str):\n",
    "    return enc.encode(s, allowed_special={\"<|endoftext|>\"})\n"
   ]
  },
  {
   "cell_type": "code",
   "execution_count": null,
   "metadata": {},
   "outputs": [],
   "source": [
    "# rd = reviewsDataset(split=\"train\")\n",
    "# dl = DataLoader(rd,batch_size=2,collate_fn=dynamic_padding,shuffle=True)\n",
    "# for i in range(10):\n",
    "    # batch = next(iter(dl))\n",
    "    # print(batch[\"lengths\"])\n",
    "    # print((batch[\"attention_masks\"]))\n",
    "enc.decode([0]) "
   ]
  },
  {
   "cell_type": "code",
   "execution_count": null,
   "metadata": {},
   "outputs": [],
   "source": [
    "# Zero shot evaluation\n",
    "from gpt import GPT\n",
    "from gpt_config import GPTConfig\n",
    "from gpt_utils import dynamic_padding\n",
    "from torch.utils.data.dataloader import DataLoader\n",
    "dl = DataLoader(rd,batch_size=2,collate_fn=dynamic_padding)\n",
    "batch = next(iter(dl))\n",
    "config = GPTConfig(use_lora=False)\n",
    "model = GPT.from_pretrained()\n",
    "model.crop_block_size(config.block_size)\n",
    "print(batch[\"input_ids\"].size())\n",
    "logits, _ = model(batch[\"input_ids\"],batch[\"attention_masks\"])"
   ]
  },
  {
   "cell_type": "code",
   "execution_count": null,
   "metadata": {},
   "outputs": [],
   "source": [
    "from gpt import GPT\n",
    "from gpt_config import GPTConfig\n",
    "import loralib as lora\n",
    "import torch\n",
    "model_config = GPTConfig(use_lora=True,load_from_checkpoint=True,checkpoint_path=\"run/finetune_lora.ckpt\")\n",
    "model = GPT.from_pretrained(config=model_config)\n",
    "if model_config.use_lora:\n",
    "    lora.mark_only_lora_as_trainable(model)\n",
    "model_base = GPT.from_pretrained(config=GPTConfig(use_lora=False,block_size=128))"
   ]
  },
  {
   "cell_type": "code",
   "execution_count": null,
   "metadata": {},
   "outputs": [],
   "source": [
    "print(dir(model_base))\n",
    "param_dict_base = {pn:p for pn,p in model_base.named_parameters()}\n",
    "param_dict = {pn:p for pn,p in model.named_parameters()}\n",
    "for k in param_dict_base.keys():\n",
    "    print(f\"{k}:{torch.equal(param_dict[k],param_dict_base[k])}\")"
   ]
  },
  {
   "cell_type": "code",
   "execution_count": null,
   "metadata": {},
   "outputs": [],
   "source": [
    "# Load models\n",
    "from gpt_karpathy import GPT as GPT_karpathy\n",
    "from gpt import GPT\n",
    "from gpt_config import GPTConfig\n",
    "\n",
    "model_base = GPT_karpathy.from_pretrained(\"gpt2\")\n",
    "model_base.crop_block_size(128)\n",
    "\n",
    "model = GPT.from_pretrained(config=GPTConfig(use_lora=False))"
   ]
  },
  {
   "cell_type": "code",
   "execution_count": null,
   "metadata": {},
   "outputs": [],
   "source": [
    "from sentiment_classification.reviewsDataset import reviewsDataset\n",
    "from gpt_utils import dynamic_padding\n",
    "from torch.utils.data.dataloader import DataLoader\n",
    "import torch\n",
    "rd = reviewsDataset(split=\"train\")\n",
    "batch_rd = next(iter(rd))\n",
    "dl = DataLoader(rd,batch_size=2,collate_fn=dynamic_padding)\n",
    "batch = next(iter(dl))\n",
    "wte_k = model_base.transformer.wte(batch_rd['input_ids'])\n",
    "wte = model.transformer.wte(batch['input_ids'])\n",
    "input_len = sum(batch[\"attention_masks\"][0]).item()\n",
    "# print(wte.size())\n",
    "x_k = wte_k.unsqueeze(0)\n",
    "for block_k in model_base.transformer.h:\n",
    "    x_k = block_k(x_k)\n",
    "x = wte\n",
    "for block in model.transformer.h:\n",
    "    x = block(x,batch[\"attention_masks\"])\n",
    "x_k = model_base.transformer.ln_f(x_k)\n",
    "x_k = model_base.lm_head(x_k)\n",
    "x = model.transformer.ln_f(x)\n",
    "x = model.lm_head(x)\n",
    "\n",
    "# print(torch.equal(wte_k[:input_len],wte[0][:input_len]))\n",
    "# print(x[0][0:input_len],x_k.squeeze())\n",
    "# print(x.size(),x_k.size())\n",
    "# print(torch.isclose(x[0][0:input_len],x_k.squeeze(),atol=1e-4))\n",
    "# print(batch['input_ids'][0])\n",
    "# print(batch_rd[\"input_ids\"])\n",
    "# print(f\"Inputs Equal: {torch.equal(batch_rd['input_ids'], batch['input_ids'])}\")\n",
    "logits,_ = model_base(batch_rd[\"input_ids\"].view(1,-1))\n",
    "logits_x, _ = model(batch[\"input_ids\"],batch[\"attention_masks\"],batch[\"label_idxs\"])\n",
    "# print(logits)\n",
    "# print(\"---\")\n",
    "# print(logits_x[0])\n"
   ]
  },
  {
   "cell_type": "code",
   "execution_count": null,
   "metadata": {},
   "outputs": [],
   "source": [
    "print(torch.equal(logits, logits_x))\n",
    "print(logits.squeeze().size(), logits_x[0].size())\n",
    "equality = torch.isclose(logits.squeeze(), logits_x[0],atol=1e-4)\n"
   ]
  },
  {
   "cell_type": "markdown",
   "metadata": {},
   "source": [
    "Walk through a few examples of the data from encoding all the way to the attention output of the last layer"
   ]
  },
  {
   "cell_type": "code",
   "execution_count": 1,
   "metadata": {},
   "outputs": [],
   "source": [
    "# Examine the data that the model is seeing.\n",
    "from torch.utils.data.dataloader import DataLoader\n",
    "from sentiment_classification.reviewsDataset import reviewsDataset\n",
    "from gpt_utils import dynamic_padding\n",
    "import tiktoken\n",
    "import torch\n",
    "import torch.nn.functional as F\n",
    "enc = tiktoken.get_encoding(\"gpt2\")\n",
    "def encode(s: str):\n",
    "    return enc.encode(s, allowed_special={\"<|endoftext|>\"},)\n",
    "\n",
    "rd = reviewsDataset(split=\"test\")\n",
    "batch_size = 1\n",
    "dl = DataLoader(rd,shuffle=True,batch_size=batch_size,collate_fn=dynamic_padding)"
   ]
  },
  {
   "cell_type": "code",
   "execution_count": 4,
   "metadata": {},
   "outputs": [
    {
     "name": "stdout",
     "output_type": "stream",
     "text": [
      "Loading pre-trained weights for gpt2\n",
      "Number of parameters: 123.65M\n"
     ]
    },
    {
     "name": "stderr",
     "output_type": "stream",
     "text": [
      "/var/folders/p1/qmcgqwhj1mx925j0j_r36xp40000gn/T/ipykernel_75305/3948697035.py:8: FutureWarning: You are using `torch.load` with `weights_only=False` (the current default value), which uses the default pickle module implicitly. It is possible to construct malicious pickle data which will execute arbitrary code during unpickling (See https://github.com/pytorch/pytorch/blob/main/SECURITY.md#untrusted-models for more details). In a future release, the default value for `weights_only` will be flipped to `True`. This limits the functions that could be executed during unpickling. Arbitrary objects will no longer be allowed to be loaded via this mode unless they are explicitly allowlisted by the user via `torch.serialization.add_safe_globals`. We recommend you start setting `weights_only=True` for any use case where you don't have full control of the loaded file. Please open an issue on GitHub for any issues related to this experimental feature.\n",
      "  ckpt = torch.load(model_config.checkpoint_path)\n"
     ]
    },
    {
     "name": "stdout",
     "output_type": "stream",
     "text": [
      "Loaded Model\n"
     ]
    }
   ],
   "source": [
    "# Load the finetuned model\n",
    "from gpt import GPT\n",
    "from gpt_config import GPTConfig\n",
    "\n",
    "model_config = GPTConfig(use_lora=False,load_from_checkpoint=True,checkpoint_path=\"run/dropout/finetune_no_lora.ckpt\",debug=True)\n",
    "# model_config = GPTConfig(debug=True,binary_classification_head=False)\n",
    "model = GPT.from_pretrained(config=model_config)\n",
    "ckpt = torch.load(model_config.checkpoint_path)\n",
    "model.load_state_dict(ckpt[\"model\"])\n",
    "model.eval()\n",
    "# device = \"mps\"\n",
    "print(\"Loaded Model\")\n"
   ]
  },
  {
   "cell_type": "code",
   "execution_count": 5,
   "metadata": {},
   "outputs": [
    {
     "ename": "IndexError",
     "evalue": "index 33733 is out of bounds for dimension 0 with size 1",
     "output_type": "error",
     "traceback": [
      "\u001b[0;31m---------------------------------------------------------------------------\u001b[0m",
      "\u001b[0;31mIndexError\u001b[0m                                Traceback (most recent call last)",
      "Cell \u001b[0;32mIn[5], line 20\u001b[0m\n\u001b[1;32m     18\u001b[0m valid \u001b[38;5;241m=\u001b[39m batch[\u001b[38;5;124m\"\u001b[39m\u001b[38;5;124mattention_masks\u001b[39m\u001b[38;5;124m\"\u001b[39m][j]\u001b[38;5;241m.\u001b[39msum()\n\u001b[1;32m     19\u001b[0m review \u001b[38;5;241m=\u001b[39m enc\u001b[38;5;241m.\u001b[39mdecode(batch[\u001b[38;5;124m'\u001b[39m\u001b[38;5;124minput_ids\u001b[39m\u001b[38;5;124m'\u001b[39m][j][\u001b[38;5;241m0\u001b[39m:valid]\u001b[38;5;241m.\u001b[39mtolist())\n\u001b[0;32m---> 20\u001b[0m \u001b[38;5;28;01mif\u001b[39;00m \u001b[43mlogits\u001b[49m\u001b[43m[\u001b[49m\u001b[43mj\u001b[49m\u001b[43m]\u001b[49m\u001b[43m[\u001b[49m\u001b[43mpos_neg\u001b[49m\u001b[43m[\u001b[49m\u001b[38;5;124;43m\"\u001b[39;49m\u001b[38;5;124;43mpositive\u001b[39;49m\u001b[38;5;124;43m\"\u001b[39;49m\u001b[43m]\u001b[49m\u001b[43m]\u001b[49m \u001b[38;5;241m>\u001b[39m logits[j][pos_neg[\u001b[38;5;124m\"\u001b[39m\u001b[38;5;124mnegative\u001b[39m\u001b[38;5;124m\"\u001b[39m]]:\n\u001b[1;32m     21\u001b[0m     prediction \u001b[38;5;241m=\u001b[39m \u001b[38;5;241m1\u001b[39m\n\u001b[1;32m     22\u001b[0m \u001b[38;5;28;01melse\u001b[39;00m:\n",
      "\u001b[0;31mIndexError\u001b[0m: index 33733 is out of bounds for dimension 0 with size 1"
     ]
    }
   ],
   "source": [
    "torch.manual_seed(1336)\n",
    "pos_neg = rd.get_pos_neg_indices()\n",
    "for i in range(10):\n",
    "    batch = next(iter(dl))\n",
    "    logits, _,att_out = model(batch[\"input_ids\"],batch[\"attention_masks\"])\n",
    "    \n",
    "    predictions = F.sigmoid(logits)\n",
    "    # For each attention head, pick the top 10 indices\n",
    "    att_out = att_out.squeeze()\n",
    "    topk_vals = []\n",
    "    topk_indices = []\n",
    "    for head in range(att_out.shape[0]):\n",
    "        topk_v,topk_idx = torch.topk(att_out[head,:],2)\n",
    "        topk_vals.append(topk_v)\n",
    "        topk_indices.append(topk_idx)\n",
    "    \n",
    "    for j in range(batch_size):\n",
    "        valid = batch[\"attention_masks\"][j].sum()\n",
    "        review = enc.decode(batch['input_ids'][j][0:valid].tolist())\n",
    "        # if logits[j][pos_neg[\"positive\"]] > logits[j][pos_neg[\"negative\"]]:\n",
    "        #     prediction = 1\n",
    "        # else:\n",
    "        #     prediction = 0 \n",
    "        print(review)\n",
    "        print(f\"{batch['fpaths'][j]}\")\n",
    "        print(f\"Label: {batch['labels'][j]}\")\n",
    "        print(f\"Prediction: {prediction}\")\n",
    "        # print(f\"Prediction: {predictions[j].item()}\")\n",
    "        words = []\n",
    "        for head in range(att_out.shape[0]):\n",
    "            for val,idx in zip(topk_vals[head],topk_indices[head]):\n",
    "                words.append((enc.decode([batch['input_ids'][j][idx].item()]),val.item()))\n",
    "                # print(f\"Word: {enc.decode([batch['input_ids'][j][idx].item()])}, Attention Val: {val}\")\n",
    "        words = sorted(words,key=lambda x: -x[1])\n",
    "        for w,c in words:\n",
    "            print(f\"{w},{c}\")\n",
    "    \n",
    "    print(\"--------------------------------------------\")"
   ]
  }
 ],
 "metadata": {
  "kernelspec": {
   "display_name": "ml-practice",
   "language": "python",
   "name": "python3"
  },
  "language_info": {
   "codemirror_mode": {
    "name": "ipython",
    "version": 3
   },
   "file_extension": ".py",
   "mimetype": "text/x-python",
   "name": "python",
   "nbconvert_exporter": "python",
   "pygments_lexer": "ipython3",
   "version": "3.12.2"
  }
 },
 "nbformat": 4,
 "nbformat_minor": 2
}
