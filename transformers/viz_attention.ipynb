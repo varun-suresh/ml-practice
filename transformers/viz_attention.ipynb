{
 "cells": [
  {
   "cell_type": "markdown",
   "metadata": {},
   "source": [
    "# Visualize attention"
   ]
  },
  {
   "cell_type": "code",
   "execution_count": 2,
   "metadata": {},
   "outputs": [],
   "source": [
    "from torch.utils.data.dataloader import DataLoader\n",
    "from sentiment_classification.reviewsDataset import reviewsDataset\n",
    "from gpt_utils import dynamic_padding\n",
    "import tiktoken\n",
    "import torch\n",
    "import torch.nn.functional as F\n",
    "enc = tiktoken.get_encoding(\"gpt2\")\n",
    "def encode(s: str):\n",
    "    return enc.encode(s, allowed_special={\"<|endoftext|>\"},)\n",
    "\n",
    "rd = reviewsDataset(split=\"test\")\n",
    "batch_size = 1\n",
    "dl = DataLoader(rd,shuffle=True,batch_size=batch_size,collate_fn=dynamic_padding)"
   ]
  },
  {
   "cell_type": "code",
   "execution_count": 3,
   "metadata": {},
   "outputs": [
    {
     "name": "stdout",
     "output_type": "stream",
     "text": [
      "Loading pre-trained weights for gpt2\n",
      "Number of parameters: 123.65M\n"
     ]
    },
    {
     "name": "stderr",
     "output_type": "stream",
     "text": [
      "/var/folders/p1/qmcgqwhj1mx925j0j_r36xp40000gn/T/ipykernel_88638/3001904080.py:8: FutureWarning: You are using `torch.load` with `weights_only=False` (the current default value), which uses the default pickle module implicitly. It is possible to construct malicious pickle data which will execute arbitrary code during unpickling (See https://github.com/pytorch/pytorch/blob/main/SECURITY.md#untrusted-models for more details). In a future release, the default value for `weights_only` will be flipped to `True`. This limits the functions that could be executed during unpickling. Arbitrary objects will no longer be allowed to be loaded via this mode unless they are explicitly allowlisted by the user via `torch.serialization.add_safe_globals`. We recommend you start setting `weights_only=True` for any use case where you don't have full control of the loaded file. Please open an issue on GitHub for any issues related to this experimental feature.\n",
      "  ckpt = torch.load(model_config.checkpoint_path)\n"
     ]
    },
    {
     "name": "stdout",
     "output_type": "stream",
     "text": [
      "Loaded Model\n"
     ]
    }
   ],
   "source": [
    "from gpt import GPT\n",
    "from gpt_config import GPTConfig\n",
    "from bertviz import model_view\n",
    "\n",
    "model_config = GPTConfig(use_lora=True,load_from_checkpoint=True,checkpoint_path=\"run/dropout_low_lr/finetune_lora.ckpt\",debug=True)\n",
    "# model_config = GPTConfig(debug=True,binary_classification_head=False)\n",
    "model = GPT.from_pretrained(config=model_config)\n",
    "ckpt = torch.load(model_config.checkpoint_path)\n",
    "model.load_state_dict(ckpt[\"model\"])\n",
    "model.eval()\n",
    "# device = \"mps\"\n",
    "print(\"Loaded Model\")"
   ]
  },
  {
   "cell_type": "code",
   "execution_count": null,
   "metadata": {},
   "outputs": [],
   "source": [
    "torch.manual_seed(1336)\n",
    "pos_neg = rd.get_pos_neg_indices()\n",
    "for i in range(1):\n",
    "    batch = next(iter(dl))\n",
    "    logits, _,att_out = model(batch[\"input_ids\"],batch[\"attention_masks\"])\n",
    "    \n",
    "    predictions = F.sigmoid(logits)\n",
    "    # For each attention head, pick the top 10 indices\n",
    "    att_out = att_out.squeeze()\n",
    "    topk_vals = []\n",
    "    topk_indices = []\n",
    "    for head in range(att_out.shape[0]):\n",
    "        topk_v,topk_idx = torch.topk(att_out[head,:],2)\n",
    "        topk_vals.append(topk_v)\n",
    "        topk_indices.append(topk_idx)\n",
    "    \n",
    "    for j in range(batch_size):\n",
    "        valid = batch[\"attention_masks\"][j].sum()\n",
    "        review = enc.decode(batch['input_ids'][j][0:valid].tolist())\n",
    " "
   ]
  }
 ],
 "metadata": {
  "kernelspec": {
   "display_name": "ml-practice",
   "language": "python",
   "name": "python3"
  },
  "language_info": {
   "codemirror_mode": {
    "name": "ipython",
    "version": 3
   },
   "file_extension": ".py",
   "mimetype": "text/x-python",
   "name": "python",
   "nbconvert_exporter": "python",
   "pygments_lexer": "ipython3",
   "version": "3.12.2"
  }
 },
 "nbformat": 4,
 "nbformat_minor": 2
}
