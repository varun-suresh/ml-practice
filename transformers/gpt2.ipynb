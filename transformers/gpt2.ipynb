{
 "cells": [
  {
   "cell_type": "markdown",
   "metadata": {},
   "source": [
    "# GPT-2 for Sentiment Analysis on IMDb movie reviews"
   ]
  },
  {
   "cell_type": "markdown",
   "metadata": {},
   "source": [
    "## Table of Contents\n",
    "1. [Introduction](##Introduction)\n",
    "2. [Data exploration](##Data-Exploration)\n",
    "3. [Zero Shot Classification](##Zero-shot-classification)"
   ]
  },
  {
   "cell_type": "markdown",
   "metadata": {},
   "source": [
    "## Introduction\n",
    "\n",
    "The [IMDb](https://ai.stanford.edu/~amaas/data/sentiment/) is a binary sentiment classification dataset consisting of 100k movie reviews(50k positive and 50k negative). The dataset is split into train and test containing 50k reviews each.\n",
    "\n",
    "In this notebook, my goals are:\n",
    "1. Understand and implement [GPT-2](https://cdn.openai.com/better-language-models/language_models_are_unsupervised_multitask_learners.pdf). Run GPT-2 on the IMDb classification task.\n",
    "2. Fine-tune GPT-2 for sentiment classification in under ~30 minutes on a 8GB Apple M2 macbook air (Faster if you have a Nvidia GPU).\n",
    "3. Understand how [LoRA](https://arxiv.org/abs/2106.09685) is implemented and use it to fine-tune GPT-2 for sentiment classification."
   ]
  },
  {
   "cell_type": "markdown",
   "metadata": {},
   "source": [
    "## Data-Exploration\n",
    "Get a summary of the dataset. i.e\n",
    "1. No of samples\n",
    "2. No of positive / negative samples.\n",
    "3. Length of the movie reviews\n",
    "\n"
   ]
  },
  {
   "cell_type": "code",
   "execution_count": 1,
   "metadata": {},
   "outputs": [],
   "source": [
    "import pandas\n",
    "import torch\n",
    "from torch.utils.data import Dataset\n",
    "\n",
    "from gpt_config import GPTConfig\n",
    "from sentiment_classification.reviewsDataset import reviewsDataset\n",
    "from sentiment_classification.eval import Eval\n",
    "from sentiment_classification.eval_config import EvalConfig\n",
    "from sentiment_classification.train import Trainer\n",
    "from sentiment_classification.train_config import TrainConfig\n"
   ]
  },
  {
   "cell_type": "code",
   "execution_count": null,
   "metadata": {},
   "outputs": [],
   "source": [
    "# Dataset exploration\n",
    "\n",
    "imdb_train = reviewsDataset(\"train\",max_length=10000)\n",
    "imdb_test = reviewsDataset(\"test\",max_length=10000)\n",
    "\n",
    "\n",
    "def format_data(dataset: Dataset) -> pandas.DataFrame:\n",
    "\n",
    "    data = []\n",
    "    for batch in dataset:\n",
    "        data.append({\"input_ids\":len(batch[\"input_ids\"]),\n",
    "                    \"label\": batch[\"label\"],\n",
    "                    \"filename\": batch[\"fpath\"]})\n",
    "    \n",
    "    return pandas.DataFrame(data)\n",
    "\n",
    "train_data = format_data(imdb_train)\n",
    "test_data = format_data(imdb_test)\n"
   ]
  },
  {
   "cell_type": "markdown",
   "metadata": {},
   "source": [
    "*Summary statistics of the dataset*"
   ]
  },
  {
   "cell_type": "code",
   "execution_count": null,
   "metadata": {},
   "outputs": [],
   "source": [
    "def summary(data: pandas.DataFrame) -> None:\n",
    "    print(f\"Number of reviews: {len(data)}\")\n",
    "    print(f\"Positive Reviews: {data[data['label'] == 1]['label'].count()}\")\n",
    "    print(f\"Negative Reviews: {data[data['label'] == 0]['label'].count()}\")\n",
    "    print(f\"Max Review Length: {data['input_ids'].max()}\\nMin Review Length: {data['input_ids'].min()}\")\n",
    "    print(f\"Median Review Length: {data['input_ids'].median()}\\nMean Review Length: {data['input_ids'].mean()}\")\n",
    "\n",
    "print(\"Train\\n--------------\")\n",
    "summary(train_data)\n",
    "print(\"Test\\n---------------\")\n",
    "summary(test_data)"
   ]
  },
  {
   "cell_type": "markdown",
   "metadata": {},
   "source": [
    "*Length of reviews (measured by the number of tokens)*"
   ]
  },
  {
   "cell_type": "code",
   "execution_count": null,
   "metadata": {},
   "outputs": [],
   "source": [
    "from matplotlib import pyplot as plt\n",
    "def plot_hist(title: str,df: pandas.DataFrame) -> None:\n",
    "    plt.figure()\n",
    "    plt.hist(df[\"input_ids\"],bins=100)\n",
    "    plt.xlabel(f\"No of tokens\")\n",
    "    plt.ylabel(\"Count\")\n",
    "    plt.title(f\"{title}\")\n",
    "\n",
    "plot_hist(title='Train Data', df=train_data) \n",
    "plot_hist(title=\"Test Data\", df=test_data)   "
   ]
  },
  {
   "cell_type": "code",
   "execution_count": null,
   "metadata": {},
   "outputs": [],
   "source": [
    "plot_hist(title=\"Positive Reviews Test\",df=test_data[test_data['label']==1])\n",
    "plot_hist(title=\"Negative Reviews Test\",df=test_data[test_data['label']==0])"
   ]
  },
  {
   "cell_type": "markdown",
   "metadata": {},
   "source": [
    "Run the test.py in `sentiment_classification` and write the results to a file"
   ]
  },
  {
   "cell_type": "code",
   "execution_count": 2,
   "metadata": {},
   "outputs": [],
   "source": [
    "def get_metrics_by_bin(results, bins,threshold=0.5):\n",
    "    TP = len(results[(results[\"label\"] >= threshold) & (results[\"prediction\"] >= threshold)])\n",
    "    FP = len(results[(results[\"label\"] < threshold) & (results[\"prediction\"] >= threshold)])\n",
    "    TN = len(results[(results[\"label\"] < threshold) & (results[\"prediction\"] < threshold)])\n",
    "    FN = len(results[(results[\"label\"] > threshold) & (results[\"prediction\"] < threshold)])\n",
    "    \n",
    "    print(\"Metrics\")\n",
    "    print(f\"Precision: {TP/(TP+FP)}\\nRecall: {TP/(TP+FN)}\\nAccuracy: {(TP+TN)/len(results)}\")\n",
    "    bins = range(0,1500,128)\n",
    "    results[\"bin\"] = pandas.cut(results['length'],bins)\n",
    "    metrics_by_bin = results.groupby('bin').apply(lambda x: pandas.Series({\"TP\": ((x[\"label\"] >= threshold) & (x[\"prediction\"] >= threshold)).sum(),\n",
    "                                                                            \"FP\":((x[\"label\"] < threshold) & (x[\"prediction\"] >= threshold)).sum(),\n",
    "                                                                            \"FN\": ((x[\"label\"] >= threshold) & (x[\"prediction\"] < threshold)).sum(),\n",
    "                                                                            \"TN\": ((x[\"label\"] < threshold) & (x[\"prediction\"] < threshold)).sum()}))\n",
    "\n",
    "    metrics_by_bin[\"accuracy\"] = (metrics_by_bin[\"TP\"] + metrics_by_bin[\"TN\"])/(metrics_by_bin[\"TP\"] + metrics_by_bin[\"TN\"]+ metrics_by_bin[\"FP\"]+ metrics_by_bin[\"FN\"])\n",
    "    metrics_by_bin[\"precision\"] = metrics_by_bin[\"TP\"]/(metrics_by_bin[\"TP\"] + metrics_by_bin[\"FP\"])\n",
    "    metrics_by_bin[\"recall\"] = metrics_by_bin[\"TP\"]/(metrics_by_bin[\"TP\"] + metrics_by_bin[\"FN\"])\n",
    "    print(\"Metrics by bin\")\n",
    "    print(metrics_by_bin.to_markdown())"
   ]
  },
  {
   "cell_type": "markdown",
   "metadata": {},
   "source": [
    "Predict the next word given the following prompt\n",
    " \n",
    "'''\n",
    "Review: The movie was awesome. Sentiment: Positive. \n",
    "Review: The performances were disappointing. Sentiment: Negative. \n",
    "Review: {review} Sentiment:\n",
    "'''\n",
    "I calculate the probabilities of the word \" Positive\" and \" Negative\" and classify the review based on which probability is greater."
   ]
  },
  {
   "cell_type": "markdown",
   "metadata": {},
   "source": [
    "**Run evaluation for the zero shot approach**"
   ]
  },
  {
   "cell_type": "code",
   "execution_count": 11,
   "metadata": {},
   "outputs": [
    {
     "name": "stdout",
     "output_type": "stream",
     "text": [
      "Loading pre-trained weights for gpt2\n",
      "Number of parameters: 123.65M\n"
     ]
    },
    {
     "name": "stderr",
     "output_type": "stream",
     "text": [
      "100%|██████████| 12500/12500 [08:31<00:00, 24.43it/s]\n"
     ]
    }
   ],
   "source": [
    "model_config = GPTConfig(block_size=128,use_lora=False,binary_classification_head=False)\n",
    "eval_config = EvalConfig(results_path=\"zero_shot_128.txt\",subset=False,batch_size=2)\n",
    "test_set = reviewsDataset(split=\"test\")\n",
    "evaluator = Eval(test_set=test_set,eval_config=eval_config,model_config=model_config)\n",
    "evaluator.evaluate()"
   ]
  },
  {
   "cell_type": "code",
   "execution_count": 12,
   "metadata": {},
   "outputs": [
    {
     "name": "stdout",
     "output_type": "stream",
     "text": [
      "Metrics\n",
      "Precision: 0.6153087115872569\n",
      "Recall: 0.6984\n",
      "Accuracy: 0.63088\n",
      "Metrics by bin\n",
      "| bin          |   TP |   FP |   FN |   TN |   accuracy |   precision |   recall |\n",
      "|:-------------|-----:|-----:|-----:|-----:|-----------:|------------:|---------:|\n",
      "| (0, 128]     |  605 |  284 |  320 |  520 |   0.650665 |    0.68054  | 0.654054 |\n",
      "| (128, 256]   | 2132 | 1336 |  831 | 1737 |   0.640987 |    0.614764 | 0.719541 |\n",
      "| (256, 384]   |  746 |  495 |  339 |  624 |   0.621597 |    0.601128 | 0.687558 |\n",
      "| (384, 512]   |  364 |  267 |  161 |  292 |   0.605166 |    0.576862 | 0.693333 |\n",
      "| (512, 640]   |  210 |  154 |   92 |  148 |   0.592715 |    0.576923 | 0.695364 |\n",
      "| (640, 768]   |  113 |   80 |   57 |   82 |   0.587349 |    0.585492 | 0.664706 |\n",
      "| (768, 896]   |   86 |   52 |   31 |   52 |   0.624434 |    0.623188 | 0.735043 |\n",
      "| (896, 1024]  |   42 |   24 |   23 |   28 |   0.598291 |    0.636364 | 0.646154 |\n",
      "| (1024, 1152] |   38 |   18 |   13 |   20 |   0.651685 |    0.678571 | 0.745098 |\n",
      "| (1152, 1280] |   19 |   19 |   11 |   14 |   0.52381  |    0.5      | 0.633333 |\n",
      "| (1280, 1408] |    9 |    0 |    7 |    4 |   0.65     |    1        | 0.5625   |\n"
     ]
    },
    {
     "name": "stderr",
     "output_type": "stream",
     "text": [
      "/var/folders/p1/qmcgqwhj1mx925j0j_r36xp40000gn/T/ipykernel_74210/3153587618.py:11: FutureWarning: The default of observed=False is deprecated and will be changed to True in a future version of pandas. Pass observed=False to retain current behavior or observed=True to adopt the future default and silence this warning.\n",
      "  metrics_by_bin = results.groupby('bin').apply(lambda x: pandas.Series({\"TP\": ((x[\"label\"] >= threshold) & (x[\"prediction\"] >= threshold)).sum(),\n",
      "/var/folders/p1/qmcgqwhj1mx925j0j_r36xp40000gn/T/ipykernel_74210/3153587618.py:11: DeprecationWarning: DataFrameGroupBy.apply operated on the grouping columns. This behavior is deprecated, and in a future version of pandas the grouping columns will be excluded from the operation. Either pass `include_groups=False` to exclude the groupings or explicitly select the grouping columns after groupby to silence this warning.\n",
      "  metrics_by_bin = results.groupby('bin').apply(lambda x: pandas.Series({\"TP\": ((x[\"label\"] >= threshold) & (x[\"prediction\"] >= threshold)).sum(),\n"
     ]
    }
   ],
   "source": [
    "res_file = pandas.read_csv(\"zero_shot_128.txt\")\n",
    "bins = range(0,1500,128)\n",
    "get_metrics_by_bin(res_file,bins,threshold=0.5)"
   ]
  },
  {
   "cell_type": "markdown",
   "metadata": {},
   "source": [
    "**Finetuning without LoRA**"
   ]
  },
  {
   "cell_type": "code",
   "execution_count": null,
   "metadata": {},
   "outputs": [],
   "source": [
    "train_config = TrainConfig(out_dir=\"run/dropout/\",init_from=\"resume\",checkpoint_name=\"finetune_no_lora.ckpt\")\n",
    "model_config = GPTConfig(use_lora=False)\n",
    "rd = reviewsDataset(split=\"train\",max_length=model_config.block_size)\n",
    "train_set, val_set = torch.utils.data.random_split(rd,[0.85,0.15])\n",
    "trainer = Trainer(train_set,val_set,train_config,model_config)\n",
    "trainer.train()"
   ]
  },
  {
   "cell_type": "markdown",
   "metadata": {},
   "source": [
    "**Run eval using the fine-tuned model**"
   ]
  },
  {
   "cell_type": "code",
   "execution_count": 6,
   "metadata": {},
   "outputs": [
    {
     "name": "stdout",
     "output_type": "stream",
     "text": [
      "Loading pre-trained weights for gpt2\n",
      "Number of parameters: 123.65M\n"
     ]
    },
    {
     "name": "stderr",
     "output_type": "stream",
     "text": [
      "/Users/varun/Documents/learning/Projects/ml-practice/transformers/sentiment_classification/eval.py:26: FutureWarning: You are using `torch.load` with `weights_only=False` (the current default value), which uses the default pickle module implicitly. It is possible to construct malicious pickle data which will execute arbitrary code during unpickling (See https://github.com/pytorch/pytorch/blob/main/SECURITY.md#untrusted-models for more details). In a future release, the default value for `weights_only` will be flipped to `True`. This limits the functions that could be executed during unpickling. Arbitrary objects will no longer be allowed to be loaded via this mode unless they are explicitly allowlisted by the user via `torch.serialization.add_safe_globals`. We recommend you start setting `weights_only=True` for any use case where you don't have full control of the loaded file. Please open an issue on GitHub for any issues related to this experimental feature.\n",
      "  ckpt = torch.load(self.model_config.checkpoint_path,map_location=self.eval_config.device)\n",
      "100%|██████████| 125/125 [00:04<00:00, 26.20it/s]\n"
     ]
    }
   ],
   "source": [
    "model_config = GPTConfig(block_size=128,use_lora=False,load_from_checkpoint=True,checkpoint_path=\"run/dropout/finetune_no_lora.ckpt\")\n",
    "eval_config = EvalConfig(results_path=\"finetuned_no_lora.txt\",subset=True)\n",
    "test_set = reviewsDataset(split=\"train\")\n",
    "evaluator = Eval(test_set=test_set,eval_config=eval_config,model_config=model_config)\n",
    "evaluator.evaluate()"
   ]
  },
  {
   "cell_type": "markdown",
   "metadata": {},
   "source": [
    "**Test the performance of the fine-tuned model**"
   ]
  },
  {
   "cell_type": "code",
   "execution_count": 7,
   "metadata": {},
   "outputs": [
    {
     "name": "stdout",
     "output_type": "stream",
     "text": [
      "Metrics\n",
      "Precision: 0.7832167832167832\n",
      "Recall: 0.896\n",
      "Accuracy: 0.824\n",
      "Metrics by bin\n",
      "| bin          |   TP |   FP |   FN |   TN |   accuracy |   precision |     recall |\n",
      "|:-------------|-----:|-----:|-----:|-----:|-----------:|------------:|-----------:|\n",
      "| (0, 128]     |   19 |    4 |    2 |   16 |   0.853659 |    0.826087 |   0.904762 |\n",
      "| (128, 256]   |   47 |   10 |    4 |   47 |   0.87037  |    0.824561 |   0.921569 |\n",
      "| (256, 384]   |   22 |   10 |    2 |   10 |   0.727273 |    0.6875   |   0.916667 |\n",
      "| (384, 512]   |    9 |    4 |    1 |    9 |   0.782609 |    0.692308 |   0.9      |\n",
      "| (512, 640]   |    7 |    1 |    2 |    8 |   0.833333 |    0.875    |   0.777778 |\n",
      "| (640, 768]   |    4 |    1 |    0 |    1 |   0.833333 |    0.8      |   1        |\n",
      "| (768, 896]   |    2 |    0 |    2 |    1 |   0.6      |    1        |   0.5      |\n",
      "| (896, 1024]  |    0 |    1 |    0 |    0 |   0        |    0        | nan        |\n",
      "| (1024, 1152] |    0 |    0 |    0 |    1 |   1        |  nan        | nan        |\n",
      "| (1152, 1280] |    1 |    0 |    0 |    1 |   1        |    1        |   1        |\n",
      "| (1280, 1408] |    0 |    0 |    0 |    0 | nan        |  nan        | nan        |\n"
     ]
    },
    {
     "name": "stderr",
     "output_type": "stream",
     "text": [
      "/var/folders/p1/qmcgqwhj1mx925j0j_r36xp40000gn/T/ipykernel_59744/3153587618.py:11: FutureWarning: The default of observed=False is deprecated and will be changed to True in a future version of pandas. Pass observed=False to retain current behavior or observed=True to adopt the future default and silence this warning.\n",
      "  metrics_by_bin = results.groupby('bin').apply(lambda x: pandas.Series({\"TP\": ((x[\"label\"] >= threshold) & (x[\"prediction\"] >= threshold)).sum(),\n",
      "/var/folders/p1/qmcgqwhj1mx925j0j_r36xp40000gn/T/ipykernel_59744/3153587618.py:11: DeprecationWarning: DataFrameGroupBy.apply operated on the grouping columns. This behavior is deprecated, and in a future version of pandas the grouping columns will be excluded from the operation. Either pass `include_groups=False` to exclude the groupings or explicitly select the grouping columns after groupby to silence this warning.\n",
      "  metrics_by_bin = results.groupby('bin').apply(lambda x: pandas.Series({\"TP\": ((x[\"label\"] >= threshold) & (x[\"prediction\"] >= threshold)).sum(),\n"
     ]
    }
   ],
   "source": [
    "res_file = pandas.read_csv(\"finetuned_no_lora.txt\")\n",
    "bins = range(0,1500,128)\n",
    "get_metrics_by_bin(res_file,bins,threshold=0.5)"
   ]
  },
  {
   "cell_type": "markdown",
   "metadata": {},
   "source": [
    "**Run training using LoRA**"
   ]
  },
  {
   "cell_type": "code",
   "execution_count": 20,
   "metadata": {},
   "outputs": [
    {
     "name": "stdout",
     "output_type": "stream",
     "text": [
      "Loading pre-trained weights for gpt2\n",
      "Number of parameters: 123.65M\n",
      "Resuming training from run/dropout_low_lr/finetune_lora.ckpt\n"
     ]
    },
    {
     "name": "stderr",
     "output_type": "stream",
     "text": [
      "/Users/varun/Documents/learning/Projects/ml-practice/transformers/sentiment_classification/train.py:52: FutureWarning: You are using `torch.load` with `weights_only=False` (the current default value), which uses the default pickle module implicitly. It is possible to construct malicious pickle data which will execute arbitrary code during unpickling (See https://github.com/pytorch/pytorch/blob/main/SECURITY.md#untrusted-models for more details). In a future release, the default value for `weights_only` will be flipped to `True`. This limits the functions that could be executed during unpickling. Arbitrary objects will no longer be allowed to be loaded via this mode unless they are explicitly allowlisted by the user via `torch.serialization.add_safe_globals`. We recommend you start setting `weights_only=True` for any use case where you don't have full control of the loaded file. Please open an issue on GitHub for any issues related to this experimental feature.\n",
      "  self.ckpt = torch.load(ckpt_path,map_location=self.train_config.device)\n"
     ]
    },
    {
     "name": "stdout",
     "output_type": "stream",
     "text": [
      "num decayed parameter tensors: 25, with 295,680 parameters\n",
      "num non-decayed parameter tensors: 74, with 102,145 parameters\n"
     ]
    },
    {
     "name": "stderr",
     "output_type": "stream",
     "text": [
      "  0%|          | 0/32000 [00:00<?, ?it/s]"
     ]
    },
    {
     "name": "stdout",
     "output_type": "stream",
     "text": [
      "Step: 48000\n",
      " Train Loss: 0.598097562789917\n",
      "Validation Loss: 0.4696851074695587\n",
      "Saving checkpoint to run/dropout_low_lr/finetune_lora.ckpt\n"
     ]
    },
    {
     "name": "stderr",
     "output_type": "stream",
     "text": [
      "  6%|▋         | 2000/32000 [07:53<2:14:21,  3.72it/s] "
     ]
    },
    {
     "name": "stdout",
     "output_type": "stream",
     "text": [
      "Step: 50000\n",
      " Train Loss: 0.404984712600708\n",
      "Validation Loss: 0.43395259976387024\n",
      "Saving checkpoint to run/dropout_low_lr/finetune_lora.ckpt\n"
     ]
    },
    {
     "name": "stderr",
     "output_type": "stream",
     "text": [
      " 12%|█▎        | 4000/32000 [16:03<1:31:21,  5.11it/s]  "
     ]
    },
    {
     "name": "stdout",
     "output_type": "stream",
     "text": [
      "Step: 52000\n",
      " Train Loss: 0.5191661715507507\n",
      "Validation Loss: 0.4795258045196533\n",
      "Saving checkpoint to run/dropout_low_lr/finetune_lora.ckpt\n"
     ]
    },
    {
     "name": "stderr",
     "output_type": "stream",
     "text": [
      " 19%|█▉        | 6000/32000 [24:01<1:27:26,  4.96it/s] "
     ]
    },
    {
     "name": "stdout",
     "output_type": "stream",
     "text": [
      "Step: 54000\n",
      " Train Loss: 0.5285136699676514\n",
      "Validation Loss: 0.6277976632118225\n",
      "Saving checkpoint to run/dropout_low_lr/finetune_lora.ckpt\n"
     ]
    },
    {
     "name": "stderr",
     "output_type": "stream",
     "text": [
      " 25%|██▌       | 8000/32000 [32:23<1:29:25,  4.47it/s] "
     ]
    },
    {
     "name": "stdout",
     "output_type": "stream",
     "text": [
      "Step: 56000\n",
      " Train Loss: 0.5062193274497986\n",
      "Validation Loss: 0.529377281665802\n",
      "Saving checkpoint to run/dropout_low_lr/finetune_lora.ckpt\n"
     ]
    },
    {
     "name": "stderr",
     "output_type": "stream",
     "text": [
      " 31%|███▏      | 10000/32000 [40:48<1:14:37,  4.91it/s]"
     ]
    },
    {
     "name": "stdout",
     "output_type": "stream",
     "text": [
      "Step: 58000\n",
      " Train Loss: 0.4908844828605652\n",
      "Validation Loss: 0.45829907059669495\n",
      "Saving checkpoint to run/dropout_low_lr/finetune_lora.ckpt\n"
     ]
    },
    {
     "name": "stderr",
     "output_type": "stream",
     "text": [
      " 38%|███▊      | 12000/32000 [48:54<1:05:16,  5.11it/s] "
     ]
    },
    {
     "name": "stdout",
     "output_type": "stream",
     "text": [
      "Step: 60000\n",
      " Train Loss: 0.6196596026420593\n",
      "Validation Loss: 0.4461834728717804\n",
      "Saving checkpoint to run/dropout_low_lr/finetune_lora.ckpt\n"
     ]
    },
    {
     "name": "stderr",
     "output_type": "stream",
     "text": [
      " 44%|████▍     | 14000/32000 [57:19<1:17:42,  3.86it/s] "
     ]
    },
    {
     "name": "stdout",
     "output_type": "stream",
     "text": [
      "Step: 62000\n",
      " Train Loss: 0.5475892424583435\n",
      "Validation Loss: 0.5505332946777344\n",
      "Saving checkpoint to run/dropout_low_lr/finetune_lora.ckpt\n"
     ]
    },
    {
     "name": "stderr",
     "output_type": "stream",
     "text": [
      " 50%|█████     | 16000/32000 [1:05:49<57:06,  4.67it/s]  "
     ]
    },
    {
     "name": "stdout",
     "output_type": "stream",
     "text": [
      "Step: 64000\n",
      " Train Loss: 0.4960448145866394\n",
      "Validation Loss: 0.6434656381607056\n",
      "Saving checkpoint to run/dropout_low_lr/finetune_lora.ckpt\n"
     ]
    },
    {
     "name": "stderr",
     "output_type": "stream",
     "text": [
      " 56%|█████▋    | 18000/32000 [1:13:57<45:35,  5.12it/s]   "
     ]
    },
    {
     "name": "stdout",
     "output_type": "stream",
     "text": [
      "Step: 66000\n",
      " Train Loss: 0.4511506259441376\n",
      "Validation Loss: 0.4789242446422577\n",
      "Saving checkpoint to run/dropout_low_lr/finetune_lora.ckpt\n"
     ]
    },
    {
     "name": "stderr",
     "output_type": "stream",
     "text": [
      " 62%|██████▎   | 20000/32000 [1:22:37<52:21,  3.82it/s]   "
     ]
    },
    {
     "name": "stdout",
     "output_type": "stream",
     "text": [
      "Step: 68000\n",
      " Train Loss: 0.5850903391838074\n",
      "Validation Loss: 0.6562095880508423\n",
      "Saving checkpoint to run/dropout_low_lr/finetune_lora.ckpt\n"
     ]
    },
    {
     "name": "stderr",
     "output_type": "stream",
     "text": [
      " 69%|██████▉   | 22000/32000 [1:31:05<32:33,  5.12it/s]   "
     ]
    },
    {
     "name": "stdout",
     "output_type": "stream",
     "text": [
      "Step: 70000\n",
      " Train Loss: 0.4576529264450073\n",
      "Validation Loss: 0.5525995492935181\n",
      "Saving checkpoint to run/dropout_low_lr/finetune_lora.ckpt\n"
     ]
    },
    {
     "name": "stderr",
     "output_type": "stream",
     "text": [
      " 75%|███████▌  | 24000/32000 [1:39:07<25:49,  5.16it/s]   "
     ]
    },
    {
     "name": "stdout",
     "output_type": "stream",
     "text": [
      "Step: 72000\n",
      " Train Loss: 0.5173817873001099\n",
      "Validation Loss: 0.4392203390598297\n",
      "Saving checkpoint to run/dropout_low_lr/finetune_lora.ckpt\n"
     ]
    },
    {
     "name": "stderr",
     "output_type": "stream",
     "text": [
      " 81%|████████▏ | 26000/32000 [1:47:08<20:02,  4.99it/s]   "
     ]
    },
    {
     "name": "stdout",
     "output_type": "stream",
     "text": [
      "Step: 74000\n",
      " Train Loss: 0.5350633263587952\n",
      "Validation Loss: 0.5186405777931213\n",
      "Saving checkpoint to run/dropout_low_lr/finetune_lora.ckpt\n"
     ]
    },
    {
     "name": "stderr",
     "output_type": "stream",
     "text": [
      " 88%|████████▊ | 28000/32000 [1:55:15<13:20,  5.00it/s]   "
     ]
    },
    {
     "name": "stdout",
     "output_type": "stream",
     "text": [
      "Step: 76000\n",
      " Train Loss: 0.5807334780693054\n",
      "Validation Loss: 0.4768508970737457\n",
      "Saving checkpoint to run/dropout_low_lr/finetune_lora.ckpt\n"
     ]
    },
    {
     "name": "stderr",
     "output_type": "stream",
     "text": [
      " 94%|█████████▍| 30000/32000 [2:03:10<06:21,  5.25it/s]   "
     ]
    },
    {
     "name": "stdout",
     "output_type": "stream",
     "text": [
      "Step: 78000\n",
      " Train Loss: 0.47857531905174255\n",
      "Validation Loss: 0.4488178491592407\n",
      "Saving checkpoint to run/dropout_low_lr/finetune_lora.ckpt\n"
     ]
    },
    {
     "name": "stderr",
     "output_type": "stream",
     "text": [
      "100%|██████████| 32000/32000 [2:11:16<00:00,  4.06it/s]  \n"
     ]
    }
   ],
   "source": [
    "# torch.manual_seed(1335)\n",
    "train_config = TrainConfig(out_dir=\"run/dropout_low_lr\",checkpoint_name=\"finetune_lora.ckpt\",init_from=\"resume\",learning_rate=1e-4,max_iters=80000,lr_decay_iters=80000)\n",
    "model_config = GPTConfig(block_size=128,use_lora=True,r=8,binary_classification_head=True)\n",
    "rd = reviewsDataset(split=\"train\",max_length=model_config.block_size)\n",
    "train_set, val_set = torch.utils.data.random_split(rd,[0.85,0.15])\n",
    "trainer = Trainer(train_set,val_set,train_config,model_config)\n",
    "trainer.train()"
   ]
  },
  {
   "cell_type": "markdown",
   "metadata": {},
   "source": [
    "**Evaluate using the LoRA finetuned model**"
   ]
  },
  {
   "cell_type": "code",
   "execution_count": 23,
   "metadata": {},
   "outputs": [
    {
     "name": "stdout",
     "output_type": "stream",
     "text": [
      "Loading pre-trained weights for gpt2\n",
      "Number of parameters: 123.65M\n"
     ]
    },
    {
     "name": "stderr",
     "output_type": "stream",
     "text": [
      "/Users/varun/Documents/learning/Projects/ml-practice/transformers/sentiment_classification/eval.py:26: FutureWarning: You are using `torch.load` with `weights_only=False` (the current default value), which uses the default pickle module implicitly. It is possible to construct malicious pickle data which will execute arbitrary code during unpickling (See https://github.com/pytorch/pytorch/blob/main/SECURITY.md#untrusted-models for more details). In a future release, the default value for `weights_only` will be flipped to `True`. This limits the functions that could be executed during unpickling. Arbitrary objects will no longer be allowed to be loaded via this mode unless they are explicitly allowlisted by the user via `torch.serialization.add_safe_globals`. We recommend you start setting `weights_only=True` for any use case where you don't have full control of the loaded file. Please open an issue on GitHub for any issues related to this experimental feature.\n",
      "  ckpt = torch.load(self.model_config.checkpoint_path,map_location=self.eval_config.device)\n",
      "100%|██████████| 12500/12500 [10:03<00:00, 20.72it/s] \n"
     ]
    }
   ],
   "source": [
    "model_config = GPTConfig(use_lora=True,binary_classification_head=True,block_size=128,load_from_checkpoint=True,checkpoint_path=\"run/dropout_low_lr/finetune_lora.ckpt\")\n",
    "eval_config = EvalConfig(results_path=\"finetuned_lora.txt\",batch_size=2,subset=False)\n",
    "test_set = reviewsDataset(split=\"test\")\n",
    "evaluator = Eval(test_set=test_set,eval_config=eval_config,model_config=model_config)\n",
    "evaluator.evaluate()"
   ]
  },
  {
   "cell_type": "markdown",
   "metadata": {},
   "source": [
    "**Test the performance of the LoRA finetuned model**"
   ]
  },
  {
   "cell_type": "code",
   "execution_count": 24,
   "metadata": {},
   "outputs": [
    {
     "name": "stdout",
     "output_type": "stream",
     "text": [
      "Metrics\n",
      "Precision: 0.8346602481022033\n",
      "Recall: 0.72128\n",
      "Accuracy: 0.7892\n",
      "Metrics by bin\n",
      "| bin          |   TP |   FP |   FN |   TN |   accuracy |   precision |   recall |\n",
      "|:-------------|-----:|-----:|-----:|-----:|-----------:|------------:|---------:|\n",
      "| (0, 128]     | 1553 |  202 |  297 | 1387 |   0.8549   |    0.8849   | 0.839459 |\n",
      "| (128, 256]   | 4369 |  680 | 1532 | 5374 |   0.814973 |    0.86532  | 0.740383 |\n",
      "| (256, 384]   | 1466 |  343 |  702 | 1976 |   0.767105 |    0.810392 | 0.676199 |\n",
      "| (384, 512]   |  663 |  252 |  394 |  894 |   0.706764 |    0.72459  | 0.627247 |\n",
      "| (512, 640]   |  380 |  124 |  223 |  452 |   0.705683 |    0.753968 | 0.630182 |\n",
      "| (640, 768]   |  225 |   64 |  137 |  258 |   0.70614  |    0.778547 | 0.621547 |\n",
      "| (768, 896]   |  137 |   52 |   76 |  155 |   0.695238 |    0.724868 | 0.643192 |\n",
      "| (896, 1024]  |   90 |   32 |   49 |   86 |   0.684825 |    0.737705 | 0.647482 |\n",
      "| (1024, 1152] |   65 |   17 |   29 |   69 |   0.744444 |    0.792683 | 0.691489 |\n",
      "| (1152, 1280] |   50 |   17 |   29 |   57 |   0.699346 |    0.746269 | 0.632911 |\n",
      "| (1280, 1408] |   16 |    3 |   11 |    6 |   0.611111 |    0.842105 | 0.592593 |\n"
     ]
    },
    {
     "name": "stderr",
     "output_type": "stream",
     "text": [
      "/var/folders/p1/qmcgqwhj1mx925j0j_r36xp40000gn/T/ipykernel_76838/3153587618.py:11: FutureWarning: The default of observed=False is deprecated and will be changed to True in a future version of pandas. Pass observed=False to retain current behavior or observed=True to adopt the future default and silence this warning.\n",
      "  metrics_by_bin = results.groupby('bin').apply(lambda x: pandas.Series({\"TP\": ((x[\"label\"] >= threshold) & (x[\"prediction\"] >= threshold)).sum(),\n",
      "/var/folders/p1/qmcgqwhj1mx925j0j_r36xp40000gn/T/ipykernel_76838/3153587618.py:11: DeprecationWarning: DataFrameGroupBy.apply operated on the grouping columns. This behavior is deprecated, and in a future version of pandas the grouping columns will be excluded from the operation. Either pass `include_groups=False` to exclude the groupings or explicitly select the grouping columns after groupby to silence this warning.\n",
      "  metrics_by_bin = results.groupby('bin').apply(lambda x: pandas.Series({\"TP\": ((x[\"label\"] >= threshold) & (x[\"prediction\"] >= threshold)).sum(),\n"
     ]
    }
   ],
   "source": [
    "res_file = pandas.read_csv(\"finetuned_lora.txt\")\n",
    "bins = range(0,1500,128)\n",
    "get_metrics_by_bin(res_file,bins,threshold=0.5)"
   ]
  }
 ],
 "metadata": {
  "kernelspec": {
   "display_name": "ml-practice",
   "language": "python",
   "name": "python3"
  },
  "language_info": {
   "codemirror_mode": {
    "name": "ipython",
    "version": 3
   },
   "file_extension": ".py",
   "mimetype": "text/x-python",
   "name": "python",
   "nbconvert_exporter": "python",
   "pygments_lexer": "ipython3",
   "version": "3.12.2"
  }
 },
 "nbformat": 4,
 "nbformat_minor": 2
}
